{
 "cells": [
  {
   "cell_type": "code",
   "execution_count": null,
   "id": "d77e45db",
   "metadata": {},
   "outputs": [],
   "source": [
    "import pandas as pd\n",
    "import  numpy as np\n",
    "from sklearn.feature_extraction.text import CountVectorizer\n",
    "from sklearn.metrics.pairwise import cosine_similarity"
   ]
  },
  {
   "cell_type": "code",
   "execution_count": 4,
   "id": "87705760",
   "metadata": {},
   "outputs": [],
   "source": [
    "data=pd.read_csv('data.csv')"
   ]
  },
  {
   "cell_type": "code",
   "execution_count": 5,
   "id": "24d0f6bb",
   "metadata": {},
   "outputs": [],
   "source": [
    "cv=CountVectorizer()"
   ]
  },
  {
   "cell_type": "code",
   "execution_count": 6,
   "id": "58fcb043",
   "metadata": {},
   "outputs": [],
   "source": [
    "count_matrix=cv.fit_transform(data['comb'])"
   ]
  },
  {
   "cell_type": "code",
   "execution_count": 7,
   "id": "6cdb1bc5",
   "metadata": {},
   "outputs": [],
   "source": [
    "similarity=cosine_similarity(count_matrix)"
   ]
  },
  {
   "cell_type": "code",
   "execution_count": 8,
   "id": "47a4c612",
   "metadata": {},
   "outputs": [
    {
     "name": "stdout",
     "output_type": "stream",
     "text": [
      "[[1.         0.09090909 0.09534626 ... 0.         0.         0.19069252]\n",
      " [0.09090909 1.         0.         ... 0.         0.         0.        ]\n",
      " [0.09534626 0.         1.         ... 0.         0.         0.        ]\n",
      " ...\n",
      " [0.         0.         0.         ... 1.         0.10540926 0.1       ]\n",
      " [0.         0.         0.         ... 0.10540926 1.         0.10540926]\n",
      " [0.19069252 0.         0.         ... 0.1        0.10540926 1.        ]]\n"
     ]
    }
   ],
   "source": [
    "print(similarity)"
   ]
  },
  {
   "cell_type": "code",
   "execution_count": null,
   "id": "7e9d89c9",
   "metadata": {},
   "outputs": [],
   "source": [
    "np.savetxt('npfile.csv',similarity, delimiter=' ')"
   ]
  },
  {
   "cell_type": "code",
   "execution_count": null,
   "id": "95156a99",
   "metadata": {},
   "outputs": [],
   "source": [
    "similarity.shape"
   ]
  },
  {
   "cell_type": "code",
   "execution_count": null,
   "id": "767da56e",
   "metadata": {},
   "outputs": [],
   "source": []
  }
 ],
 "metadata": {
  "kernelspec": {
   "display_name": "Python 3 (ipykernel)",
   "language": "python",
   "name": "python3"
  },
  "language_info": {
   "codemirror_mode": {
    "name": "ipython",
    "version": 3
   },
   "file_extension": ".py",
   "mimetype": "text/x-python",
   "name": "python",
   "nbconvert_exporter": "python",
   "pygments_lexer": "ipython3",
   "version": "3.10.4"
  }
 },
 "nbformat": 4,
 "nbformat_minor": 5
}
